{
 "cells": [
  {
   "cell_type": "code",
   "execution_count": 59,
   "metadata": {
    "_cell_guid": "b1076dfc-b9ad-4769-8c92-a6c4dae69d19",
    "_uuid": "8f2839f25d086af736a60e9eeb907d3b93b6e0e5",
    "execution": {
     "iopub.execute_input": "2023-12-21T17:18:40.318722Z",
     "iopub.status.busy": "2023-12-21T17:18:40.318224Z",
     "iopub.status.idle": "2023-12-21T17:18:40.325281Z",
     "shell.execute_reply": "2023-12-21T17:18:40.323694Z",
     "shell.execute_reply.started": "2023-12-21T17:18:40.318686Z"
    }
   },
   "outputs": [],
   "source": [
    "import pandas as pd\n",
    "import os\n",
    "import matplotlib.pyplot as plt"
   ]
  },
  {
   "cell_type": "markdown",
   "metadata": {},
   "source": [
    "**Task 1:** Merging all csvs into a single csv file"
   ]
  },
  {
   "cell_type": "code",
   "execution_count": 60,
   "metadata": {
    "execution": {
     "iopub.execute_input": "2023-12-21T17:18:40.328238Z",
     "iopub.status.busy": "2023-12-21T17:18:40.327758Z",
     "iopub.status.idle": "2023-12-21T17:18:42.181121Z",
     "shell.execute_reply": "2023-12-21T17:18:42.180285Z",
     "shell.execute_reply.started": "2023-12-21T17:18:40.328202Z"
    }
   },
   "outputs": [],
   "source": [
    "df = pd.read_csv(\"/kaggle/input/sales-dataset/Sales_April_2019.csv\")\n",
    "\n",
    "files = [file for file in os.listdir('/kaggle/input/sales-dataset')]\n",
    "\n",
    "year_data = pd.DataFrame()\n",
    "\n",
    "for file in files:\n",
    "    df = pd.read_csv('/kaggle/input/sales-dataset/' + file)\n",
    "    year_data = pd.concat([year_data, df])\n",
    "\n",
    "year_data.to_csv('year_data.csv', index = False)"
   ]
  },
  {
   "cell_type": "markdown",
   "metadata": {},
   "source": [
    "**Read the Updated Frame**"
   ]
  },
  {
   "cell_type": "code",
   "execution_count": 61,
   "metadata": {
    "execution": {
     "iopub.execute_input": "2023-12-21T17:18:42.183458Z",
     "iopub.status.busy": "2023-12-21T17:18:42.182771Z",
     "iopub.status.idle": "2023-12-21T17:18:42.750832Z",
     "shell.execute_reply": "2023-12-21T17:18:42.749687Z",
     "shell.execute_reply.started": "2023-12-21T17:18:42.183407Z"
    }
   },
   "outputs": [
    {
     "data": {
      "text/html": [
       "<div>\n",
       "<style scoped>\n",
       "    .dataframe tbody tr th:only-of-type {\n",
       "        vertical-align: middle;\n",
       "    }\n",
       "\n",
       "    .dataframe tbody tr th {\n",
       "        vertical-align: top;\n",
       "    }\n",
       "\n",
       "    .dataframe thead th {\n",
       "        text-align: right;\n",
       "    }\n",
       "</style>\n",
       "<table border=\"1\" class=\"dataframe\">\n",
       "  <thead>\n",
       "    <tr style=\"text-align: right;\">\n",
       "      <th></th>\n",
       "      <th>Order ID</th>\n",
       "      <th>Product</th>\n",
       "      <th>Quantity Ordered</th>\n",
       "      <th>Price Each</th>\n",
       "      <th>Order Date</th>\n",
       "      <th>Purchase Address</th>\n",
       "    </tr>\n",
       "  </thead>\n",
       "  <tbody>\n",
       "    <tr>\n",
       "      <th>0</th>\n",
       "      <td>236670</td>\n",
       "      <td>Wired Headphones</td>\n",
       "      <td>2</td>\n",
       "      <td>11.99</td>\n",
       "      <td>08/31/19 22:21</td>\n",
       "      <td>359 Spruce St, Seattle, WA 98101</td>\n",
       "    </tr>\n",
       "    <tr>\n",
       "      <th>1</th>\n",
       "      <td>236671</td>\n",
       "      <td>Bose SoundSport Headphones</td>\n",
       "      <td>1</td>\n",
       "      <td>99.99</td>\n",
       "      <td>08/15/19 15:11</td>\n",
       "      <td>492 Ridge St, Dallas, TX 75001</td>\n",
       "    </tr>\n",
       "    <tr>\n",
       "      <th>2</th>\n",
       "      <td>236672</td>\n",
       "      <td>iPhone</td>\n",
       "      <td>1</td>\n",
       "      <td>700.0</td>\n",
       "      <td>08/06/19 14:40</td>\n",
       "      <td>149 7th St, Portland, OR 97035</td>\n",
       "    </tr>\n",
       "    <tr>\n",
       "      <th>3</th>\n",
       "      <td>236673</td>\n",
       "      <td>AA Batteries (4-pack)</td>\n",
       "      <td>2</td>\n",
       "      <td>3.84</td>\n",
       "      <td>08/29/19 20:59</td>\n",
       "      <td>631 2nd St, Los Angeles, CA 90001</td>\n",
       "    </tr>\n",
       "    <tr>\n",
       "      <th>4</th>\n",
       "      <td>236674</td>\n",
       "      <td>AA Batteries (4-pack)</td>\n",
       "      <td>2</td>\n",
       "      <td>3.84</td>\n",
       "      <td>08/15/19 19:53</td>\n",
       "      <td>736 14th St, New York City, NY 10001</td>\n",
       "    </tr>\n",
       "  </tbody>\n",
       "</table>\n",
       "</div>"
      ],
      "text/plain": [
       "  Order ID                     Product Quantity Ordered Price Each  \\\n",
       "0   236670            Wired Headphones                2      11.99   \n",
       "1   236671  Bose SoundSport Headphones                1      99.99   \n",
       "2   236672                      iPhone                1      700.0   \n",
       "3   236673       AA Batteries (4-pack)                2       3.84   \n",
       "4   236674       AA Batteries (4-pack)                2       3.84   \n",
       "\n",
       "       Order Date                      Purchase Address  \n",
       "0  08/31/19 22:21      359 Spruce St, Seattle, WA 98101  \n",
       "1  08/15/19 15:11        492 Ridge St, Dallas, TX 75001  \n",
       "2  08/06/19 14:40        149 7th St, Portland, OR 97035  \n",
       "3  08/29/19 20:59     631 2nd St, Los Angeles, CA 90001  \n",
       "4  08/15/19 19:53  736 14th St, New York City, NY 10001  "
      ]
     },
     "execution_count": 61,
     "metadata": {},
     "output_type": "execute_result"
    }
   ],
   "source": [
    "year_data = pd.read_csv('/kaggle/working/year_data.csv')\n",
    "year_data.head()"
   ]
  },
  {
   "cell_type": "markdown",
   "metadata": {},
   "source": [
    "***Data Cleaning***"
   ]
  },
  {
   "cell_type": "markdown",
   "metadata": {},
   "source": [
    "**Dropping the NaN Rows**"
   ]
  },
  {
   "cell_type": "code",
   "execution_count": 62,
   "metadata": {
    "execution": {
     "iopub.execute_input": "2023-12-21T17:18:42.752649Z",
     "iopub.status.busy": "2023-12-21T17:18:42.752276Z",
     "iopub.status.idle": "2023-12-21T17:18:43.025049Z",
     "shell.execute_reply": "2023-12-21T17:18:43.023992Z",
     "shell.execute_reply.started": "2023-12-21T17:18:42.752619Z"
    }
   },
   "outputs": [
    {
     "data": {
      "text/html": [
       "<div>\n",
       "<style scoped>\n",
       "    .dataframe tbody tr th:only-of-type {\n",
       "        vertical-align: middle;\n",
       "    }\n",
       "\n",
       "    .dataframe tbody tr th {\n",
       "        vertical-align: top;\n",
       "    }\n",
       "\n",
       "    .dataframe thead th {\n",
       "        text-align: right;\n",
       "    }\n",
       "</style>\n",
       "<table border=\"1\" class=\"dataframe\">\n",
       "  <thead>\n",
       "    <tr style=\"text-align: right;\">\n",
       "      <th></th>\n",
       "      <th>Order ID</th>\n",
       "      <th>Product</th>\n",
       "      <th>Quantity Ordered</th>\n",
       "      <th>Price Each</th>\n",
       "      <th>Order Date</th>\n",
       "      <th>Purchase Address</th>\n",
       "    </tr>\n",
       "  </thead>\n",
       "  <tbody>\n",
       "    <tr>\n",
       "      <th>0</th>\n",
       "      <td>236670</td>\n",
       "      <td>Wired Headphones</td>\n",
       "      <td>2</td>\n",
       "      <td>11.99</td>\n",
       "      <td>08/31/19 22:21</td>\n",
       "      <td>359 Spruce St, Seattle, WA 98101</td>\n",
       "    </tr>\n",
       "    <tr>\n",
       "      <th>1</th>\n",
       "      <td>236671</td>\n",
       "      <td>Bose SoundSport Headphones</td>\n",
       "      <td>1</td>\n",
       "      <td>99.99</td>\n",
       "      <td>08/15/19 15:11</td>\n",
       "      <td>492 Ridge St, Dallas, TX 75001</td>\n",
       "    </tr>\n",
       "    <tr>\n",
       "      <th>2</th>\n",
       "      <td>236672</td>\n",
       "      <td>iPhone</td>\n",
       "      <td>1</td>\n",
       "      <td>700.0</td>\n",
       "      <td>08/06/19 14:40</td>\n",
       "      <td>149 7th St, Portland, OR 97035</td>\n",
       "    </tr>\n",
       "    <tr>\n",
       "      <th>3</th>\n",
       "      <td>236673</td>\n",
       "      <td>AA Batteries (4-pack)</td>\n",
       "      <td>2</td>\n",
       "      <td>3.84</td>\n",
       "      <td>08/29/19 20:59</td>\n",
       "      <td>631 2nd St, Los Angeles, CA 90001</td>\n",
       "    </tr>\n",
       "    <tr>\n",
       "      <th>4</th>\n",
       "      <td>236674</td>\n",
       "      <td>AA Batteries (4-pack)</td>\n",
       "      <td>2</td>\n",
       "      <td>3.84</td>\n",
       "      <td>08/15/19 19:53</td>\n",
       "      <td>736 14th St, New York City, NY 10001</td>\n",
       "    </tr>\n",
       "  </tbody>\n",
       "</table>\n",
       "</div>"
      ],
      "text/plain": [
       "  Order ID                     Product Quantity Ordered Price Each  \\\n",
       "0   236670            Wired Headphones                2      11.99   \n",
       "1   236671  Bose SoundSport Headphones                1      99.99   \n",
       "2   236672                      iPhone                1      700.0   \n",
       "3   236673       AA Batteries (4-pack)                2       3.84   \n",
       "4   236674       AA Batteries (4-pack)                2       3.84   \n",
       "\n",
       "       Order Date                      Purchase Address  \n",
       "0  08/31/19 22:21      359 Spruce St, Seattle, WA 98101  \n",
       "1  08/15/19 15:11        492 Ridge St, Dallas, TX 75001  \n",
       "2  08/06/19 14:40        149 7th St, Portland, OR 97035  \n",
       "3  08/29/19 20:59     631 2nd St, Los Angeles, CA 90001  \n",
       "4  08/15/19 19:53  736 14th St, New York City, NY 10001  "
      ]
     },
     "execution_count": 62,
     "metadata": {},
     "output_type": "execute_result"
    }
   ],
   "source": [
    "nan_rows = year_data[year_data.isna().any(axis = 1)]\n",
    "nan_rows.head()\n",
    "\n",
    "###Removing the NaN Rows.\n",
    "year_data = year_data.dropna(how='all')\n",
    "year_data.head()"
   ]
  },
  {
   "cell_type": "markdown",
   "metadata": {},
   "source": [
    "**Finding 'Or' and Deleting it.**"
   ]
  },
  {
   "cell_type": "code",
   "execution_count": 63,
   "metadata": {
    "execution": {
     "iopub.execute_input": "2023-12-21T17:18:43.028169Z",
     "iopub.status.busy": "2023-12-21T17:18:43.027792Z",
     "iopub.status.idle": "2023-12-21T17:18:43.192087Z",
     "shell.execute_reply": "2023-12-21T17:18:43.190488Z",
     "shell.execute_reply.started": "2023-12-21T17:18:43.028138Z"
    }
   },
   "outputs": [],
   "source": [
    "year_data = year_data[year_data['Order Date'].str[0:2] != 'Or']"
   ]
  },
  {
   "cell_type": "markdown",
   "metadata": {},
   "source": [
    "**Converting Columns to the Correct Type**"
   ]
  },
  {
   "cell_type": "code",
   "execution_count": 64,
   "metadata": {
    "execution": {
     "iopub.execute_input": "2023-12-21T17:18:43.194426Z",
     "iopub.status.busy": "2023-12-21T17:18:43.193926Z",
     "iopub.status.idle": "2023-12-21T17:18:43.528736Z",
     "shell.execute_reply": "2023-12-21T17:18:43.527566Z",
     "shell.execute_reply.started": "2023-12-21T17:18:43.194383Z"
    }
   },
   "outputs": [],
   "source": [
    "year_data['Quantity Ordered'] = pd.to_numeric(year_data['Quantity Ordered'])\n",
    "year_data['Price Each']  = pd.to_numeric(year_data['Price Each'])"
   ]
  },
  {
   "cell_type": "markdown",
   "metadata": {},
   "source": [
    "***Data Processing***"
   ]
  },
  {
   "cell_type": "markdown",
   "metadata": {},
   "source": [
    "**Processing Data for Additional Columns**"
   ]
  },
  {
   "cell_type": "markdown",
   "metadata": {},
   "source": [
    "Add Month Column"
   ]
  },
  {
   "cell_type": "code",
   "execution_count": 65,
   "metadata": {
    "execution": {
     "iopub.execute_input": "2023-12-21T17:18:43.530483Z",
     "iopub.status.busy": "2023-12-21T17:18:43.530070Z",
     "iopub.status.idle": "2023-12-21T17:18:43.674685Z",
     "shell.execute_reply": "2023-12-21T17:18:43.673236Z",
     "shell.execute_reply.started": "2023-12-21T17:18:43.530444Z"
    }
   },
   "outputs": [
    {
     "data": {
      "text/html": [
       "<div>\n",
       "<style scoped>\n",
       "    .dataframe tbody tr th:only-of-type {\n",
       "        vertical-align: middle;\n",
       "    }\n",
       "\n",
       "    .dataframe tbody tr th {\n",
       "        vertical-align: top;\n",
       "    }\n",
       "\n",
       "    .dataframe thead th {\n",
       "        text-align: right;\n",
       "    }\n",
       "</style>\n",
       "<table border=\"1\" class=\"dataframe\">\n",
       "  <thead>\n",
       "    <tr style=\"text-align: right;\">\n",
       "      <th></th>\n",
       "      <th>Order ID</th>\n",
       "      <th>Product</th>\n",
       "      <th>Quantity Ordered</th>\n",
       "      <th>Price Each</th>\n",
       "      <th>Order Date</th>\n",
       "      <th>Purchase Address</th>\n",
       "      <th>Month</th>\n",
       "    </tr>\n",
       "  </thead>\n",
       "  <tbody>\n",
       "    <tr>\n",
       "      <th>0</th>\n",
       "      <td>236670</td>\n",
       "      <td>Wired Headphones</td>\n",
       "      <td>2</td>\n",
       "      <td>11.99</td>\n",
       "      <td>08/31/19 22:21</td>\n",
       "      <td>359 Spruce St, Seattle, WA 98101</td>\n",
       "      <td>8</td>\n",
       "    </tr>\n",
       "    <tr>\n",
       "      <th>1</th>\n",
       "      <td>236671</td>\n",
       "      <td>Bose SoundSport Headphones</td>\n",
       "      <td>1</td>\n",
       "      <td>99.99</td>\n",
       "      <td>08/15/19 15:11</td>\n",
       "      <td>492 Ridge St, Dallas, TX 75001</td>\n",
       "      <td>8</td>\n",
       "    </tr>\n",
       "    <tr>\n",
       "      <th>2</th>\n",
       "      <td>236672</td>\n",
       "      <td>iPhone</td>\n",
       "      <td>1</td>\n",
       "      <td>700.00</td>\n",
       "      <td>08/06/19 14:40</td>\n",
       "      <td>149 7th St, Portland, OR 97035</td>\n",
       "      <td>8</td>\n",
       "    </tr>\n",
       "    <tr>\n",
       "      <th>3</th>\n",
       "      <td>236673</td>\n",
       "      <td>AA Batteries (4-pack)</td>\n",
       "      <td>2</td>\n",
       "      <td>3.84</td>\n",
       "      <td>08/29/19 20:59</td>\n",
       "      <td>631 2nd St, Los Angeles, CA 90001</td>\n",
       "      <td>8</td>\n",
       "    </tr>\n",
       "    <tr>\n",
       "      <th>4</th>\n",
       "      <td>236674</td>\n",
       "      <td>AA Batteries (4-pack)</td>\n",
       "      <td>2</td>\n",
       "      <td>3.84</td>\n",
       "      <td>08/15/19 19:53</td>\n",
       "      <td>736 14th St, New York City, NY 10001</td>\n",
       "      <td>8</td>\n",
       "    </tr>\n",
       "  </tbody>\n",
       "</table>\n",
       "</div>"
      ],
      "text/plain": [
       "  Order ID                     Product  Quantity Ordered  Price Each  \\\n",
       "0   236670            Wired Headphones                 2       11.99   \n",
       "1   236671  Bose SoundSport Headphones                 1       99.99   \n",
       "2   236672                      iPhone                 1      700.00   \n",
       "3   236673       AA Batteries (4-pack)                 2        3.84   \n",
       "4   236674       AA Batteries (4-pack)                 2        3.84   \n",
       "\n",
       "       Order Date                      Purchase Address  Month  \n",
       "0  08/31/19 22:21      359 Spruce St, Seattle, WA 98101      8  \n",
       "1  08/15/19 15:11        492 Ridge St, Dallas, TX 75001      8  \n",
       "2  08/06/19 14:40        149 7th St, Portland, OR 97035      8  \n",
       "3  08/29/19 20:59     631 2nd St, Los Angeles, CA 90001      8  \n",
       "4  08/15/19 19:53  736 14th St, New York City, NY 10001      8  "
      ]
     },
     "execution_count": 65,
     "metadata": {},
     "output_type": "execute_result"
    }
   ],
   "source": [
    "year_data['Month'] = year_data['Order Date'].str[0:2]\n",
    "year_data['Month'] = year_data['Month'].astype('int32')\n",
    "year_data.head()"
   ]
  },
  {
   "cell_type": "markdown",
   "metadata": {},
   "source": [
    "**Add Sales Column**"
   ]
  },
  {
   "cell_type": "code",
   "execution_count": 66,
   "metadata": {
    "execution": {
     "iopub.execute_input": "2023-12-21T17:18:43.678059Z",
     "iopub.status.busy": "2023-12-21T17:18:43.677446Z",
     "iopub.status.idle": "2023-12-21T17:18:43.701920Z",
     "shell.execute_reply": "2023-12-21T17:18:43.701037Z",
     "shell.execute_reply.started": "2023-12-21T17:18:43.678007Z"
    }
   },
   "outputs": [
    {
     "data": {
      "text/html": [
       "<div>\n",
       "<style scoped>\n",
       "    .dataframe tbody tr th:only-of-type {\n",
       "        vertical-align: middle;\n",
       "    }\n",
       "\n",
       "    .dataframe tbody tr th {\n",
       "        vertical-align: top;\n",
       "    }\n",
       "\n",
       "    .dataframe thead th {\n",
       "        text-align: right;\n",
       "    }\n",
       "</style>\n",
       "<table border=\"1\" class=\"dataframe\">\n",
       "  <thead>\n",
       "    <tr style=\"text-align: right;\">\n",
       "      <th></th>\n",
       "      <th>Order ID</th>\n",
       "      <th>Product</th>\n",
       "      <th>Quantity Ordered</th>\n",
       "      <th>Price Each</th>\n",
       "      <th>Order Date</th>\n",
       "      <th>Purchase Address</th>\n",
       "      <th>Month</th>\n",
       "      <th>Sales</th>\n",
       "    </tr>\n",
       "  </thead>\n",
       "  <tbody>\n",
       "    <tr>\n",
       "      <th>0</th>\n",
       "      <td>236670</td>\n",
       "      <td>Wired Headphones</td>\n",
       "      <td>2</td>\n",
       "      <td>11.99</td>\n",
       "      <td>08/31/19 22:21</td>\n",
       "      <td>359 Spruce St, Seattle, WA 98101</td>\n",
       "      <td>8</td>\n",
       "      <td>23.98</td>\n",
       "    </tr>\n",
       "    <tr>\n",
       "      <th>1</th>\n",
       "      <td>236671</td>\n",
       "      <td>Bose SoundSport Headphones</td>\n",
       "      <td>1</td>\n",
       "      <td>99.99</td>\n",
       "      <td>08/15/19 15:11</td>\n",
       "      <td>492 Ridge St, Dallas, TX 75001</td>\n",
       "      <td>8</td>\n",
       "      <td>99.99</td>\n",
       "    </tr>\n",
       "    <tr>\n",
       "      <th>2</th>\n",
       "      <td>236672</td>\n",
       "      <td>iPhone</td>\n",
       "      <td>1</td>\n",
       "      <td>700.00</td>\n",
       "      <td>08/06/19 14:40</td>\n",
       "      <td>149 7th St, Portland, OR 97035</td>\n",
       "      <td>8</td>\n",
       "      <td>700.00</td>\n",
       "    </tr>\n",
       "    <tr>\n",
       "      <th>3</th>\n",
       "      <td>236673</td>\n",
       "      <td>AA Batteries (4-pack)</td>\n",
       "      <td>2</td>\n",
       "      <td>3.84</td>\n",
       "      <td>08/29/19 20:59</td>\n",
       "      <td>631 2nd St, Los Angeles, CA 90001</td>\n",
       "      <td>8</td>\n",
       "      <td>7.68</td>\n",
       "    </tr>\n",
       "    <tr>\n",
       "      <th>4</th>\n",
       "      <td>236674</td>\n",
       "      <td>AA Batteries (4-pack)</td>\n",
       "      <td>2</td>\n",
       "      <td>3.84</td>\n",
       "      <td>08/15/19 19:53</td>\n",
       "      <td>736 14th St, New York City, NY 10001</td>\n",
       "      <td>8</td>\n",
       "      <td>7.68</td>\n",
       "    </tr>\n",
       "  </tbody>\n",
       "</table>\n",
       "</div>"
      ],
      "text/plain": [
       "  Order ID                     Product  Quantity Ordered  Price Each  \\\n",
       "0   236670            Wired Headphones                 2       11.99   \n",
       "1   236671  Bose SoundSport Headphones                 1       99.99   \n",
       "2   236672                      iPhone                 1      700.00   \n",
       "3   236673       AA Batteries (4-pack)                 2        3.84   \n",
       "4   236674       AA Batteries (4-pack)                 2        3.84   \n",
       "\n",
       "       Order Date                      Purchase Address  Month   Sales  \n",
       "0  08/31/19 22:21      359 Spruce St, Seattle, WA 98101      8   23.98  \n",
       "1  08/15/19 15:11        492 Ridge St, Dallas, TX 75001      8   99.99  \n",
       "2  08/06/19 14:40        149 7th St, Portland, OR 97035      8  700.00  \n",
       "3  08/29/19 20:59     631 2nd St, Los Angeles, CA 90001      8    7.68  \n",
       "4  08/15/19 19:53  736 14th St, New York City, NY 10001      8    7.68  "
      ]
     },
     "execution_count": 66,
     "metadata": {},
     "output_type": "execute_result"
    }
   ],
   "source": [
    "year_data['Sales'] = year_data['Quantity Ordered'] * year_data['Price Each']\n",
    "year_data.head()"
   ]
  },
  {
   "cell_type": "markdown",
   "metadata": {},
   "source": [
    "**Add City Column**"
   ]
  },
  {
   "cell_type": "code",
   "execution_count": 67,
   "metadata": {
    "execution": {
     "iopub.execute_input": "2023-12-21T17:18:43.703512Z",
     "iopub.status.busy": "2023-12-21T17:18:43.703106Z",
     "iopub.status.idle": "2023-12-21T17:18:44.026420Z",
     "shell.execute_reply": "2023-12-21T17:18:44.025548Z",
     "shell.execute_reply.started": "2023-12-21T17:18:43.703472Z"
    }
   },
   "outputs": [
    {
     "data": {
      "text/html": [
       "<div>\n",
       "<style scoped>\n",
       "    .dataframe tbody tr th:only-of-type {\n",
       "        vertical-align: middle;\n",
       "    }\n",
       "\n",
       "    .dataframe tbody tr th {\n",
       "        vertical-align: top;\n",
       "    }\n",
       "\n",
       "    .dataframe thead th {\n",
       "        text-align: right;\n",
       "    }\n",
       "</style>\n",
       "<table border=\"1\" class=\"dataframe\">\n",
       "  <thead>\n",
       "    <tr style=\"text-align: right;\">\n",
       "      <th></th>\n",
       "      <th>Order ID</th>\n",
       "      <th>Product</th>\n",
       "      <th>Quantity Ordered</th>\n",
       "      <th>Price Each</th>\n",
       "      <th>Order Date</th>\n",
       "      <th>Purchase Address</th>\n",
       "      <th>Month</th>\n",
       "      <th>Sales</th>\n",
       "      <th>City</th>\n",
       "    </tr>\n",
       "  </thead>\n",
       "  <tbody>\n",
       "    <tr>\n",
       "      <th>0</th>\n",
       "      <td>236670</td>\n",
       "      <td>Wired Headphones</td>\n",
       "      <td>2</td>\n",
       "      <td>11.99</td>\n",
       "      <td>08/31/19 22:21</td>\n",
       "      <td>359 Spruce St, Seattle, WA 98101</td>\n",
       "      <td>8</td>\n",
       "      <td>23.98</td>\n",
       "      <td>Seattle, WA</td>\n",
       "    </tr>\n",
       "    <tr>\n",
       "      <th>1</th>\n",
       "      <td>236671</td>\n",
       "      <td>Bose SoundSport Headphones</td>\n",
       "      <td>1</td>\n",
       "      <td>99.99</td>\n",
       "      <td>08/15/19 15:11</td>\n",
       "      <td>492 Ridge St, Dallas, TX 75001</td>\n",
       "      <td>8</td>\n",
       "      <td>99.99</td>\n",
       "      <td>Dallas, TX</td>\n",
       "    </tr>\n",
       "    <tr>\n",
       "      <th>2</th>\n",
       "      <td>236672</td>\n",
       "      <td>iPhone</td>\n",
       "      <td>1</td>\n",
       "      <td>700.00</td>\n",
       "      <td>08/06/19 14:40</td>\n",
       "      <td>149 7th St, Portland, OR 97035</td>\n",
       "      <td>8</td>\n",
       "      <td>700.00</td>\n",
       "      <td>Portland, OR</td>\n",
       "    </tr>\n",
       "    <tr>\n",
       "      <th>3</th>\n",
       "      <td>236673</td>\n",
       "      <td>AA Batteries (4-pack)</td>\n",
       "      <td>2</td>\n",
       "      <td>3.84</td>\n",
       "      <td>08/29/19 20:59</td>\n",
       "      <td>631 2nd St, Los Angeles, CA 90001</td>\n",
       "      <td>8</td>\n",
       "      <td>7.68</td>\n",
       "      <td>Los Angeles, CA</td>\n",
       "    </tr>\n",
       "    <tr>\n",
       "      <th>4</th>\n",
       "      <td>236674</td>\n",
       "      <td>AA Batteries (4-pack)</td>\n",
       "      <td>2</td>\n",
       "      <td>3.84</td>\n",
       "      <td>08/15/19 19:53</td>\n",
       "      <td>736 14th St, New York City, NY 10001</td>\n",
       "      <td>8</td>\n",
       "      <td>7.68</td>\n",
       "      <td>New York City, NY</td>\n",
       "    </tr>\n",
       "  </tbody>\n",
       "</table>\n",
       "</div>"
      ],
      "text/plain": [
       "  Order ID                     Product  Quantity Ordered  Price Each  \\\n",
       "0   236670            Wired Headphones                 2       11.99   \n",
       "1   236671  Bose SoundSport Headphones                 1       99.99   \n",
       "2   236672                      iPhone                 1      700.00   \n",
       "3   236673       AA Batteries (4-pack)                 2        3.84   \n",
       "4   236674       AA Batteries (4-pack)                 2        3.84   \n",
       "\n",
       "       Order Date                      Purchase Address  Month   Sales  \\\n",
       "0  08/31/19 22:21      359 Spruce St, Seattle, WA 98101      8   23.98   \n",
       "1  08/15/19 15:11        492 Ridge St, Dallas, TX 75001      8   99.99   \n",
       "2  08/06/19 14:40        149 7th St, Portland, OR 97035      8  700.00   \n",
       "3  08/29/19 20:59     631 2nd St, Los Angeles, CA 90001      8    7.68   \n",
       "4  08/15/19 19:53  736 14th St, New York City, NY 10001      8    7.68   \n",
       "\n",
       "                 City  \n",
       "0         Seattle, WA  \n",
       "1          Dallas, TX  \n",
       "2        Portland, OR  \n",
       "3     Los Angeles, CA  \n",
       "4   New York City, NY  "
      ]
     },
     "execution_count": 67,
     "metadata": {},
     "output_type": "execute_result"
    }
   ],
   "source": [
    "def get_state(address):\n",
    "    return address.split(',')[2]\n",
    "\n",
    "year_data['City'] = year_data['Purchase Address'].apply(lambda x: x.split(',')[1] + ', ' + get_state(x).split(' ')[1])\n",
    "year_data.head()"
   ]
  },
  {
   "cell_type": "markdown",
   "metadata": {},
   "source": [
    "**Question # 1:** What was the best month for revenue? How much was earned?"
   ]
  },
  {
   "cell_type": "code",
   "execution_count": 68,
   "metadata": {
    "execution": {
     "iopub.execute_input": "2023-12-21T17:18:44.028443Z",
     "iopub.status.busy": "2023-12-21T17:18:44.028102Z",
     "iopub.status.idle": "2023-12-21T17:18:49.947738Z",
     "shell.execute_reply": "2023-12-21T17:18:49.946275Z",
     "shell.execute_reply.started": "2023-12-21T17:18:44.028415Z"
    }
   },
   "outputs": [],
   "source": [
    "results = year_data.groupby('Month').sum()"
   ]
  },
  {
   "cell_type": "markdown",
   "metadata": {},
   "source": [
    "*Plotting*"
   ]
  },
  {
   "cell_type": "code",
   "execution_count": 69,
   "metadata": {
    "execution": {
     "iopub.execute_input": "2023-12-21T17:18:49.951945Z",
     "iopub.status.busy": "2023-12-21T17:18:49.951572Z",
     "iopub.status.idle": "2023-12-21T17:18:50.242755Z",
     "shell.execute_reply": "2023-12-21T17:18:50.241448Z",
     "shell.execute_reply.started": "2023-12-21T17:18:49.951891Z"
    }
   },
   "outputs": [
    {
     "data": {
      "image/png": "[encoded data removed]",
      "text/plain": [
       "<Figure size 640x480 with 1 Axes>"
      ]
     },
     "metadata": {},
     "output_type": "display_data"
    }
   ],
   "source": [
    "months = range(1, 13)\n",
    "plt.bar(months, results['Sales'])\n",
    "plt.xticks(months)\n",
    "plt.ylabel('Sales in Millions USD($)')\n",
    "plt.xlabel('Months in Numbers')\n",
    "\n",
    "plt.show()"
   ]
  },
  {
   "cell_type": "markdown",
   "metadata": {},
   "source": [
    "**Finding:**\n",
    "\n",
    "The graph depicting sales data reveals a distinct and pronounced peak during the month of December, suggesting a substantial surge in sales during this period. This surge is likely attributed to the holiday season, particularly Christmas, where individuals engage in gift-giving practices. The noticeable uptick in sales during December aligns with the festive tradition of exchanging presents, reflecting a significant impact on overall purchasing behavior. The data strongly implies a positive correlation between the holiday season, specifically Christmas, and heightened consumer spending, as people actively participate in the joyous act of gifting, thereby contributing to the observed peak in sales during the month of December."
   ]
  },
  {
   "cell_type": "markdown",
   "metadata": {},
   "source": [
    "***Question # 2:*** Which city had the highest number of sales?"
   ]
  },
  {
   "cell_type": "code",
   "execution_count": 70,
   "metadata": {
    "execution": {
     "iopub.execute_input": "2023-12-21T17:18:50.245941Z",
     "iopub.status.busy": "2023-12-21T17:18:50.245080Z",
     "iopub.status.idle": "2023-12-21T17:19:03.639634Z",
     "shell.execute_reply": "2023-12-21T17:19:03.638469Z",
     "shell.execute_reply.started": "2023-12-21T17:18:50.245892Z"
    }
   },
   "outputs": [],
   "source": [
    "results = year_data.groupby('City').sum()"
   ]
  },
  {
   "cell_type": "code",
   "execution_count": 71,
   "metadata": {
    "execution": {
     "iopub.execute_input": "2023-12-21T17:19:03.641590Z",
     "iopub.status.busy": "2023-12-21T17:19:03.641245Z",
     "iopub.status.idle": "2023-12-21T17:19:04.014620Z",
     "shell.execute_reply": "2023-12-21T17:19:04.013393Z",
     "shell.execute_reply.started": "2023-12-21T17:19:03.641559Z"
    }
   },
   "outputs": [
    {
     "data": {
      "image/png": "[encoded data removed]",
      "text/plain": [
       "<Figure size 640x480 with 1 Axes>"
      ]
     },
     "metadata": {},
     "output_type": "display_data"
    }
   ],
   "source": [
    "cities = [city for city, df in year_data.groupby('City')]\n",
    "\n",
    "plt.bar(cities, results['Sales'])\n",
    "plt.xticks(cities, rotation='vertical', size=8)\n",
    "plt.ylabel('Sales in Millions USD($)')\n",
    "plt.xlabel('City')\n",
    "\n",
    "plt.show()"
   ]
  },
  {
   "cell_type": "markdown",
   "metadata": {},
   "source": [
    "**Findings:**\n",
    "\n",
    "San Francisco's prominence as part of Silicon Valley, a global hub for technology and innovation, likely plays a pivotal role in driving elevated sales figures. The concentration of tech-related industries and a tech-savvy population in San Francisco could contribute to a heightened demand for electronics, thereby influencing the sales landscape. This geographical connection between the business's focus on electronics and the tech-centric environment of San Francisco suggests a strategic alignment that positively impacts overall sales performance in this region."
   ]
  },
  {
   "cell_type": "markdown",
   "metadata": {},
   "source": [
    "**Question # 3:** What time should we advertise to increase the chances of sales?"
   ]
  },
  {
   "cell_type": "code",
   "execution_count": 72,
   "metadata": {
    "collapsed": true,
    "execution": {
     "iopub.execute_input": "2023-12-21T17:19:04.017159Z",
     "iopub.status.busy": "2023-12-21T17:19:04.016644Z",
     "iopub.status.idle": "2023-12-21T17:19:23.271844Z",
     "shell.execute_reply": "2023-12-21T17:19:23.270426Z",
     "shell.execute_reply.started": "2023-12-21T17:19:04.017113Z"
    },
    "jupyter": {
     "outputs_hidden": true
    }
   },
   "outputs": [
    {
     "name": "stderr",
     "output_type": "stream",
     "text": [
      "/tmp/ipykernel_41/2924594726.py:1: UserWarning: Could not infer format, so each element will be parsed individually, falling back to `dateutil`. To ensure parsing is consistent and as-expected, please specify a format.\n",
      "  year_data['Order Date'] = pd.to_datetime(year_data['Order Date'])\n"
     ]
    }
   ],
   "source": [
    "year_data['Order Date'] = pd.to_datetime(year_data['Order Date'])"
   ]
  },
  {
   "cell_type": "code",
   "execution_count": 73,
   "metadata": {
    "execution": {
     "iopub.execute_input": "2023-12-21T17:19:23.273662Z",
     "iopub.status.busy": "2023-12-21T17:19:23.273327Z",
     "iopub.status.idle": "2023-12-21T17:19:23.329528Z",
     "shell.execute_reply": "2023-12-21T17:19:23.328256Z",
     "shell.execute_reply.started": "2023-12-21T17:19:23.273620Z"
    },
    "scrolled": true
   },
   "outputs": [
    {
     "data": {
      "text/html": [
       "<div>\n",
       "<style scoped>\n",
       "    .dataframe tbody tr th:only-of-type {\n",
       "        vertical-align: middle;\n",
       "    }\n",
       "\n",
       "    .dataframe tbody tr th {\n",
       "        vertical-align: top;\n",
       "    }\n",
       "\n",
       "    .dataframe thead th {\n",
       "        text-align: right;\n",
       "    }\n",
       "</style>\n",
       "<table border=\"1\" class=\"dataframe\">\n",
       "  <thead>\n",
       "    <tr style=\"text-align: right;\">\n",
       "      <th></th>\n",
       "      <th>Order ID</th>\n",
       "      <th>Product</th>\n",
       "      <th>Quantity Ordered</th>\n",
       "      <th>Price Each</th>\n",
       "      <th>Order Date</th>\n",
       "      <th>Purchase Address</th>\n",
       "      <th>Month</th>\n",
       "      <th>Sales</th>\n",
       "      <th>City</th>\n",
       "      <th>Hour</th>\n",
       "      <th>Minute</th>\n",
       "    </tr>\n",
       "  </thead>\n",
       "  <tbody>\n",
       "    <tr>\n",
       "      <th>0</th>\n",
       "      <td>236670</td>\n",
       "      <td>Wired Headphones</td>\n",
       "      <td>2</td>\n",
       "      <td>11.99</td>\n",
       "      <td>2019-08-31 22:21:00</td>\n",
       "      <td>359 Spruce St, Seattle, WA 98101</td>\n",
       "      <td>8</td>\n",
       "      <td>23.98</td>\n",
       "      <td>Seattle, WA</td>\n",
       "      <td>22</td>\n",
       "      <td>21</td>\n",
       "    </tr>\n",
       "    <tr>\n",
       "      <th>1</th>\n",
       "      <td>236671</td>\n",
       "      <td>Bose SoundSport Headphones</td>\n",
       "      <td>1</td>\n",
       "      <td>99.99</td>\n",
       "      <td>2019-08-15 15:11:00</td>\n",
       "      <td>492 Ridge St, Dallas, TX 75001</td>\n",
       "      <td>8</td>\n",
       "      <td>99.99</td>\n",
       "      <td>Dallas, TX</td>\n",
       "      <td>15</td>\n",
       "      <td>11</td>\n",
       "    </tr>\n",
       "    <tr>\n",
       "      <th>2</th>\n",
       "      <td>236672</td>\n",
       "      <td>iPhone</td>\n",
       "      <td>1</td>\n",
       "      <td>700.00</td>\n",
       "      <td>2019-08-06 14:40:00</td>\n",
       "      <td>149 7th St, Portland, OR 97035</td>\n",
       "      <td>8</td>\n",
       "      <td>700.00</td>\n",
       "      <td>Portland, OR</td>\n",
       "      <td>14</td>\n",
       "      <td>40</td>\n",
       "    </tr>\n",
       "    <tr>\n",
       "      <th>3</th>\n",
       "      <td>236673</td>\n",
       "      <td>AA Batteries (4-pack)</td>\n",
       "      <td>2</td>\n",
       "      <td>3.84</td>\n",
       "      <td>2019-08-29 20:59:00</td>\n",
       "      <td>631 2nd St, Los Angeles, CA 90001</td>\n",
       "      <td>8</td>\n",
       "      <td>7.68</td>\n",
       "      <td>Los Angeles, CA</td>\n",
       "      <td>20</td>\n",
       "      <td>59</td>\n",
       "    </tr>\n",
       "    <tr>\n",
       "      <th>4</th>\n",
       "      <td>236674</td>\n",
       "      <td>AA Batteries (4-pack)</td>\n",
       "      <td>2</td>\n",
       "      <td>3.84</td>\n",
       "      <td>2019-08-15 19:53:00</td>\n",
       "      <td>736 14th St, New York City, NY 10001</td>\n",
       "      <td>8</td>\n",
       "      <td>7.68</td>\n",
       "      <td>New York City, NY</td>\n",
       "      <td>19</td>\n",
       "      <td>53</td>\n",
       "    </tr>\n",
       "  </tbody>\n",
       "</table>\n",
       "</div>"
      ],
      "text/plain": [
       "  Order ID                     Product  Quantity Ordered  Price Each  \\\n",
       "0   236670            Wired Headphones                 2       11.99   \n",
       "1   236671  Bose SoundSport Headphones                 1       99.99   \n",
       "2   236672                      iPhone                 1      700.00   \n",
       "3   236673       AA Batteries (4-pack)                 2        3.84   \n",
       "4   236674       AA Batteries (4-pack)                 2        3.84   \n",
       "\n",
       "           Order Date                      Purchase Address  Month   Sales  \\\n",
       "0 2019-08-31 22:21:00      359 Spruce St, Seattle, WA 98101      8   23.98   \n",
       "1 2019-08-15 15:11:00        492 Ridge St, Dallas, TX 75001      8   99.99   \n",
       "2 2019-08-06 14:40:00        149 7th St, Portland, OR 97035      8  700.00   \n",
       "3 2019-08-29 20:59:00     631 2nd St, Los Angeles, CA 90001      8    7.68   \n",
       "4 2019-08-15 19:53:00  736 14th St, New York City, NY 10001      8    7.68   \n",
       "\n",
       "                 City  Hour  Minute  \n",
       "0         Seattle, WA    22      21  \n",
       "1          Dallas, TX    15      11  \n",
       "2        Portland, OR    14      40  \n",
       "3     Los Angeles, CA    20      59  \n",
       "4   New York City, NY    19      53  "
      ]
     },
     "execution_count": 73,
     "metadata": {},
     "output_type": "execute_result"
    }
   ],
   "source": [
    "year_data['Hour'] = year_data['Order Date'].dt.hour\n",
    "year_data['Minute'] = year_data['Order Date'].dt.minute\n",
    "year_data.head()"
   ]
  },
  {
   "cell_type": "code",
   "execution_count": 74,
   "metadata": {
    "execution": {
     "iopub.execute_input": "2023-12-21T17:19:23.331182Z",
     "iopub.status.busy": "2023-12-21T17:19:23.330835Z",
     "iopub.status.idle": "2023-12-21T17:19:23.862876Z",
     "shell.execute_reply": "2023-12-21T17:19:23.860550Z",
     "shell.execute_reply.started": "2023-12-21T17:19:23.331142Z"
    }
   },
   "outputs": [
    {
     "data": {
      "image/png": "[encoded data removed]",
      "text/plain": [
       "<Figure size 640x480 with 1 Axes>"
      ]
     },
     "metadata": {},
     "output_type": "display_data"
    }
   ],
   "source": [
    "hours = [hour for hour, df in year_data.groupby('Hour')]\n",
    "\n",
    "plt.plot(hours, year_data.groupby(['Hour']).count())\n",
    "plt.xticks(hours)\n",
    "plt.xlabel('Hours')\n",
    "plt.ylabel('Number of Sales')\n",
    "plt.grid()\n",
    "plt.show()"
   ]
  },
  {
   "cell_type": "markdown",
   "metadata": {},
   "source": [
    "**Findings:**\n",
    "\n",
    "The graph depicts a distinct sales pattern, with notable peaks observed around 11:00 AM and 12:00 PM, as well as around 7:00 PM. These peaks suggest a correlation between increased sales and specific times of the day. The surge in sales during the late morning hours could be attributed to individuals taking a break from work or engaging in online shopping during lunchtime. Similarly, the evening peak around 7:00 PM implies a surge in consumer activity, possibly after individuals have returned from work and completed their daily tasks. These findings suggest that concentrating advertising efforts during these time frames may prove particularly effective, as potential customers are more likely to be actively engaged in shopping activities during these periods. By strategically targeting promotions and advertisements during these peak hours, businesses can optimize their outreach and capitalize on the times when consumer engagement is at its highest."
   ]
  },
  {
   "cell_type": "markdown",
   "metadata": {},
   "source": [
    "**Question # 4** What products were often bought together?"
   ]
  },
  {
   "cell_type": "code",
   "execution_count": 75,
   "metadata": {
    "execution": {
     "iopub.execute_input": "2023-12-21T17:19:23.864661Z",
     "iopub.status.busy": "2023-12-21T17:19:23.864329Z",
     "iopub.status.idle": "2023-12-21T17:19:24.702053Z",
     "shell.execute_reply": "2023-12-21T17:19:24.701003Z",
     "shell.execute_reply.started": "2023-12-21T17:19:23.864633Z"
    }
   },
   "outputs": [
    {
     "name": "stderr",
     "output_type": "stream",
     "text": [
      "/tmp/ipykernel_41/3480352718.py:3: SettingWithCopyWarning: \n",
      "A value is trying to be set on a copy of a slice from a DataFrame.\n",
      "Try using .loc[row_indexer,col_indexer] = value instead\n",
      "\n",
      "See the caveats in the documentation: https://pandas.pydata.org/pandas-docs/stable/user_guide/indexing.html#returning-a-view-versus-a-copy\n",
      "  df['Bought Together'] = df.groupby('Order ID')['Product'].transform(lambda x: ', '.join(x))\n"
     ]
    },
    {
     "data": {
      "text/html": [
       "<div>\n",
       "<style scoped>\n",
       "    .dataframe tbody tr th:only-of-type {\n",
       "        vertical-align: middle;\n",
       "    }\n",
       "\n",
       "    .dataframe tbody tr th {\n",
       "        vertical-align: top;\n",
       "    }\n",
       "\n",
       "    .dataframe thead th {\n",
       "        text-align: right;\n",
       "    }\n",
       "</style>\n",
       "<table border=\"1\" class=\"dataframe\">\n",
       "  <thead>\n",
       "    <tr style=\"text-align: right;\">\n",
       "      <th></th>\n",
       "      <th>Order ID</th>\n",
       "      <th>Bought Together</th>\n",
       "    </tr>\n",
       "  </thead>\n",
       "  <tbody>\n",
       "    <tr>\n",
       "      <th>46</th>\n",
       "      <td>236716</td>\n",
       "      <td>AA Batteries (4-pack), USB-C Charging Cable</td>\n",
       "    </tr>\n",
       "    <tr>\n",
       "      <th>60</th>\n",
       "      <td>236729</td>\n",
       "      <td>iPhone, Apple Airpods Headphones</td>\n",
       "    </tr>\n",
       "    <tr>\n",
       "      <th>62</th>\n",
       "      <td>236730</td>\n",
       "      <td>Google Phone, Wired Headphones</td>\n",
       "    </tr>\n",
       "    <tr>\n",
       "      <th>132</th>\n",
       "      <td>236799</td>\n",
       "      <td>Google Phone, Wired Headphones</td>\n",
       "    </tr>\n",
       "    <tr>\n",
       "      <th>163</th>\n",
       "      <td>236829</td>\n",
       "      <td>Vareebadd Phone, USB-C Charging Cable</td>\n",
       "    </tr>\n",
       "  </tbody>\n",
       "</table>\n",
       "</div>"
      ],
      "text/plain": [
       "    Order ID                              Bought Together\n",
       "46    236716  AA Batteries (4-pack), USB-C Charging Cable\n",
       "60    236729             iPhone, Apple Airpods Headphones\n",
       "62    236730               Google Phone, Wired Headphones\n",
       "132   236799               Google Phone, Wired Headphones\n",
       "163   236829        Vareebadd Phone, USB-C Charging Cable"
      ]
     },
     "execution_count": 75,
     "metadata": {},
     "output_type": "execute_result"
    }
   ],
   "source": [
    "df = year_data[year_data['Order ID'].duplicated(keep=False)]\n",
    "\n",
    "df['Bought Together'] = df.groupby('Order ID')['Product'].transform(lambda x: ', '.join(x))\n",
    "df = df[['Order ID', 'Bought Together']].drop_duplicates()\n",
    "\n",
    "df.head()"
   ]
  },
  {
   "cell_type": "markdown",
   "metadata": {},
   "source": [
    "**Question # 5** What product sold the most and Why?"
   ]
  },
  {
   "cell_type": "code",
   "execution_count": 81,
   "metadata": {
    "execution": {
     "iopub.execute_input": "2023-12-21T17:35:35.918701Z",
     "iopub.status.busy": "2023-12-21T17:35:35.917214Z",
     "iopub.status.idle": "2023-12-21T17:35:36.033722Z",
     "shell.execute_reply": "2023-12-21T17:35:36.032690Z",
     "shell.execute_reply.started": "2023-12-21T17:35:35.918658Z"
    }
   },
   "outputs": [],
   "source": [
    "productGroup = year_data.groupby('Product')\n",
    "\n",
    "year_data['Quantity Ordered'] = pd.to_numeric(year_data['Quantity Ordered'], errors='coerce')\n",
    "\n",
    "# Drop rows with NaN values in 'Quantity Ordered' column\n",
    "year_data = year_data.dropna(subset=['Quantity Ordered'])\n",
    "\n",
    "# Group by 'Product' and sum 'Quantity Ordered'\n",
    "productGroup = year_data.groupby('Product')\n",
    "quantityOrdered = productGroup['Quantity Ordered'].sum()\n",
    "\n",
    "products = [product for product, df in productGroup]"
   ]
  },
  {
   "cell_type": "code",
   "execution_count": 85,
   "metadata": {
    "execution": {
     "iopub.execute_input": "2023-12-21T17:38:51.401574Z",
     "iopub.status.busy": "2023-12-21T17:38:51.401103Z",
     "iopub.status.idle": "2023-12-21T17:38:51.786993Z",
     "shell.execute_reply": "2023-12-21T17:38:51.786133Z",
     "shell.execute_reply.started": "2023-12-21T17:38:51.401539Z"
    }
   },
   "outputs": [
    {
     "data": {
      "image/png": "[encoded data removed]",
      "text/plain": [
       "<Figure size 640x480 with 1 Axes>"
      ]
     },
     "metadata": {},
     "output_type": "display_data"
    }
   ],
   "source": [
    "plt.bar(products, quantityOrdered)\n",
    "plt.xticks(products, rotation='vertical', size=8)\n",
    "plt.ylabel('Quantity Ordered')\n",
    "plt.xlabel('Products')\n",
    "\n",
    "plt.show()"
   ]
  },
  {
   "cell_type": "markdown",
   "metadata": {},
   "source": [
    "**Findings: Why?**\n",
    "\n",
    "AAA Batteries stand out with the highest number of orders, followed closely by AA Batteries. The data suggests a correlation between the popularity of AAA Batteries and their relatively low prices. Notably, AA Batteries also exhibit significant sales, although slightly lower than AAA Batteries, possibly due to their comparatively higher prices. This trend implies that pricing may indeed play a crucial role in driving consumer preferences, as customers seem inclined towards products with more budget-friendly costs, as evidenced by the robust demand for both AAA and AA Batteries."
   ]
  }
 ],
 "metadata": {
  "kaggle": {
   "accelerator": "none",
   "dataSources": [
    {
     "datasetId": 4200806,
     "sourceId": 7250520,
     "sourceType": "datasetVersion"
    }
   ],
   "dockerImageVersionId": 30626,
   "isGpuEnabled": false,
   "isInternetEnabled": true,
   "language": "python",
   "sourceType": "notebook"
  },
  "kernelspec": {
   "display_name": "Python 3 (ipykernel)",
   "language": "python",
   "name": "python3"
  },
  "language_info": {
   "codemirror_mode": {
    "name": "ipython",
    "version": 3
   },
   "file_extension": ".py",
   "mimetype": "text/x-python",
   "name": "python",
   "nbconvert_exporter": "python",
   "pygments_lexer": "ipython3",
   "version": "3.11.5"
  }
 },
 "nbformat": 4,
 "nbformat_minor": 4
}
